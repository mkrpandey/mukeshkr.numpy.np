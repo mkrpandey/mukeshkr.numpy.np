{
 "cells": [
  {
   "cell_type": "markdown",
   "metadata": {},
   "source": [
    "# #Simple Array"
   ]
  },
  {
   "cell_type": "code",
   "execution_count": 93,
   "metadata": {},
   "outputs": [
    {
     "data": {
      "text/plain": [
       "array([1, 2, 3, 4])"
      ]
     },
     "execution_count": 93,
     "metadata": {},
     "output_type": "execute_result"
    }
   ],
   "source": [
    "#Simple array\n",
    "\n",
    "import numpy as np\n",
    "n1 = [1,2,3,4]\n",
    "np.array(n1)"
   ]
  },
  {
   "cell_type": "markdown",
   "metadata": {},
   "source": [
    "# #Two Dimensional Array"
   ]
  },
  {
   "cell_type": "code",
   "execution_count": 3,
   "metadata": {},
   "outputs": [
    {
     "data": {
      "text/plain": [
       "array([[1, 2, 3, 4],\n",
       "       [4, 3, 2, 1]])"
      ]
     },
     "execution_count": 3,
     "metadata": {},
     "output_type": "execute_result"
    }
   ],
   "source": [
    "#Two Dimensional array\n",
    "\n",
    "import numpy as np\n",
    "n2 = ([[1,2,3,4],[4,3,2,1]])\n",
    "np.array(n2)\n"
   ]
  },
  {
   "cell_type": "markdown",
   "metadata": {},
   "source": [
    "# #Zeros"
   ]
  },
  {
   "cell_type": "code",
   "execution_count": 4,
   "metadata": {},
   "outputs": [
    {
     "name": "stdout",
     "output_type": "stream",
     "text": [
      "[[0. 0. 0. 0. 0.]\n",
      " [0. 0. 0. 0. 0.]\n",
      " [0. 0. 0. 0. 0.]\n",
      " [0. 0. 0. 0. 0.]\n",
      " [0. 0. 0. 0. 0.]]\n",
      "2\n"
     ]
    }
   ],
   "source": [
    "#Zeros\n",
    "\n",
    "import numpy as np\n",
    "n3=np.zeros((5,5))\n",
    "print(n3)\n",
    "print(n3.ndim)"
   ]
  },
  {
   "cell_type": "markdown",
   "metadata": {},
   "source": [
    "# #Number of Dimension (ndim)"
   ]
  },
  {
   "cell_type": "code",
   "execution_count": 88,
   "metadata": {},
   "outputs": [
    {
     "name": "stdout",
     "output_type": "stream",
     "text": [
      "2\n"
     ]
    }
   ],
   "source": [
    "#No. off array\n",
    "\n",
    "import numpy as np\n",
    "n4=np.full((4,4),10)\n",
    "print(n4.ndim)"
   ]
  },
  {
   "cell_type": "markdown",
   "metadata": {},
   "source": [
    "# #Range of Array 01"
   ]
  },
  {
   "cell_type": "code",
   "execution_count": null,
   "metadata": {},
   "outputs": [
    {
     "name": "stdout",
     "output_type": "stream",
     "text": [
      "['10' '12' '14' '16']\n"
     ]
    }
   ],
   "source": [
    "#Range of array\n",
    "\n",
    "l = []\n",
    "for i in range (1,5):\n",
    "    int_1 = input (\"enter :\")\n",
    "    l.append(int_1)\n",
    "\n",
    "print(np.array(l))\n"
   ]
  },
  {
   "cell_type": "markdown",
   "metadata": {},
   "source": [
    "# #Range of Array 02"
   ]
  },
  {
   "cell_type": "code",
   "execution_count": null,
   "metadata": {},
   "outputs": [
    {
     "name": "stdout",
     "output_type": "stream",
     "text": [
      "['10' '11' '12' '13']\n"
     ]
    }
   ],
   "source": [
    "#Range of array\n",
    "\n",
    "l = []\n",
    "for i in range (1,5):\n",
    "    int_1 = input (\"enter :\")\n",
    "    l.append(int_1)\n",
    "\n",
    "print(np.array(l))"
   ]
  },
  {
   "cell_type": "markdown",
   "metadata": {},
   "source": [
    "# #Two Dimensional Array, Number of dimensiona"
   ]
  },
  {
   "cell_type": "code",
   "execution_count": 1,
   "metadata": {},
   "outputs": [
    {
     "name": "stdout",
     "output_type": "stream",
     "text": [
      "[[1 2 3 4]\n",
      " [4 3 2 1]]\n",
      "2\n"
     ]
    }
   ],
   "source": [
    "#Two dimensional array, No. of dimensiona\n",
    "\n",
    "import numpy as np\n",
    "x = np.array([[1,2,3,4],[4,3,2,1]])\n",
    "print(x)\n",
    "print(x.ndim)  "
   ]
  },
  {
   "cell_type": "markdown",
   "metadata": {},
   "source": [
    "# #Ones element Array 01"
   ]
  },
  {
   "cell_type": "code",
   "execution_count": 7,
   "metadata": {},
   "outputs": [
    {
     "data": {
      "text/plain": [
       "array([[1., 1., 1., 1., 1.],\n",
       "       [1., 1., 1., 1., 1.],\n",
       "       [1., 1., 1., 1., 1.],\n",
       "       [1., 1., 1., 1., 1.],\n",
       "       [1., 1., 1., 1., 1.]])"
      ]
     },
     "execution_count": 7,
     "metadata": {},
     "output_type": "execute_result"
    }
   ],
   "source": [
    "#Ones element array\n",
    "\n",
    "import numpy as np\n",
    "n3=np.ones((5,5))\n",
    "n3"
   ]
  },
  {
   "cell_type": "markdown",
   "metadata": {},
   "source": [
    "# #Ones element Array 02"
   ]
  },
  {
   "cell_type": "code",
   "execution_count": 8,
   "metadata": {},
   "outputs": [
    {
     "name": "stdout",
     "output_type": "stream",
     "text": [
      "[[1. 1. 1. 1. 1.]\n",
      " [1. 1. 1. 1. 1.]\n",
      " [1. 1. 1. 1. 1.]\n",
      " [1. 1. 1. 1. 1.]]\n"
     ]
    }
   ],
   "source": [
    "#Ones element array\n",
    "\n",
    "import numpy as np\n",
    "ar_one = np.ones((4,5))\n",
    "print(ar_one)"
   ]
  },
  {
   "cell_type": "markdown",
   "metadata": {},
   "source": [
    "# #Empty Array"
   ]
  },
  {
   "cell_type": "code",
   "execution_count": 92,
   "metadata": {},
   "outputs": [
    {
     "name": "stdout",
     "output_type": "stream",
     "text": [
      "[[6.23042070e-307 4.67296746e-307 1.69121096e-306]\n",
      " [1.42420209e-306 1.89146896e-307 7.56571288e-307]]\n"
     ]
    }
   ],
   "source": [
    "#Empty array\n",
    "\n",
    "ar_em=np.empty((2,3))\n",
    "print(ar_em)"
   ]
  },
  {
   "cell_type": "markdown",
   "metadata": {},
   "source": [
    "# #Range Array"
   ]
  },
  {
   "cell_type": "code",
   "execution_count": 10,
   "metadata": {},
   "outputs": [
    {
     "name": "stdout",
     "output_type": "stream",
     "text": [
      "[0 1 2 3 4 5 6 7]\n"
     ]
    }
   ],
   "source": [
    "#Range array\n",
    "\n",
    "ar_rn=np.arange(8)\n",
    "print(ar_rn)"
   ]
  },
  {
   "cell_type": "markdown",
   "metadata": {},
   "source": [
    "# #Diagonal Element 01"
   ]
  },
  {
   "cell_type": "code",
   "execution_count": 13,
   "metadata": {},
   "outputs": [
    {
     "name": "stdout",
     "output_type": "stream",
     "text": [
      "[[1. 0. 0.]\n",
      " [0. 1. 0.]\n",
      " [0. 0. 1.]]\n"
     ]
    }
   ],
   "source": [
    "#Diagonal\n",
    "\n",
    "ar_dia=np.eye(3)\n",
    "print(ar_dia)"
   ]
  },
  {
   "cell_type": "markdown",
   "metadata": {},
   "source": [
    "# #Diagonal Element 02"
   ]
  },
  {
   "cell_type": "code",
   "execution_count": 14,
   "metadata": {},
   "outputs": [
    {
     "name": "stdout",
     "output_type": "stream",
     "text": [
      "[[1. 0. 0. 0.]\n",
      " [0. 1. 0. 0.]\n",
      " [0. 0. 1. 0.]\n",
      " [0. 0. 0. 1.]]\n"
     ]
    }
   ],
   "source": [
    "#Diagonal\n",
    "\n",
    "ar_dia=np.eye(4,4)\n",
    "print(ar_dia)"
   ]
  },
  {
   "cell_type": "markdown",
   "metadata": {},
   "source": [
    "# #Linspace 01"
   ]
  },
  {
   "cell_type": "code",
   "execution_count": 15,
   "metadata": {},
   "outputs": [
    {
     "name": "stdout",
     "output_type": "stream",
     "text": [
      "[ 0.  6. 12. 18.]\n"
     ]
    }
   ],
   "source": [
    "#Linspace\n",
    "\n",
    "ar_lin=np.linspace(0,18,num=4)\n",
    "print(ar_lin)"
   ]
  },
  {
   "cell_type": "markdown",
   "metadata": {},
   "source": [
    "# #Linspace 02"
   ]
  },
  {
   "cell_type": "code",
   "execution_count": 16,
   "metadata": {},
   "outputs": [
    {
     "name": "stdout",
     "output_type": "stream",
     "text": [
      "[ 0.  5. 10. 15. 20.]\n"
     ]
    }
   ],
   "source": [
    "#Linspace\n",
    "\n",
    "ar_lin=np.linspace(0,20,num=5)\n",
    "print(ar_lin)"
   ]
  },
  {
   "cell_type": "markdown",
   "metadata": {},
   "source": [
    "# #Random"
   ]
  },
  {
   "cell_type": "code",
   "execution_count": 17,
   "metadata": {},
   "outputs": [
    {
     "name": "stdout",
     "output_type": "stream",
     "text": [
      "[0.16215256 0.10475624 0.48397308 0.39661836 0.13005135]\n"
     ]
    }
   ],
   "source": [
    "#Random\n",
    "#Rand()\n",
    "\n",
    "import numpy as np\n",
    "x=np.random.rand(5)\n",
    "print(x)"
   ]
  },
  {
   "cell_type": "code",
   "execution_count": 18,
   "metadata": {},
   "outputs": [
    {
     "name": "stdout",
     "output_type": "stream",
     "text": [
      "[[0.65627667 0.00468998 0.36945915 0.56875003]\n",
      " [0.03433493 0.95745862 0.9610067  0.7543736 ]]\n"
     ]
    }
   ],
   "source": [
    "#Rand()\n",
    "x1=np.random.rand(2,4)\n",
    "print(x1)"
   ]
  },
  {
   "cell_type": "code",
   "execution_count": 19,
   "metadata": {},
   "outputs": [
    {
     "name": "stdout",
     "output_type": "stream",
     "text": [
      "[ 1.42148515 -0.20839213  1.91936075  1.38102239 -0.62686467]\n"
     ]
    }
   ],
   "source": [
    "#Randn()\n",
    "x2=np.random.randn(5)\n",
    "print(x2)\n"
   ]
  },
  {
   "cell_type": "code",
   "execution_count": 20,
   "metadata": {},
   "outputs": [
    {
     "name": "stdout",
     "output_type": "stream",
     "text": [
      "[0.37257642 0.06327388 0.97687201 0.66630034]\n"
     ]
    }
   ],
   "source": [
    "#Ranf()\n",
    "x3=np.random.ranf(4)\n",
    "print(x3)"
   ]
  },
  {
   "cell_type": "code",
   "execution_count": 21,
   "metadata": {},
   "outputs": [
    {
     "name": "stdout",
     "output_type": "stream",
     "text": [
      "[12 14  5 11 12]\n"
     ]
    }
   ],
   "source": [
    "#Randint()\n",
    "x4=np.random.randint(5,15,5)\n",
    "print(x4)"
   ]
  },
  {
   "cell_type": "markdown",
   "metadata": {},
   "source": [
    "# #Data Type"
   ]
  },
  {
   "cell_type": "code",
   "execution_count": 22,
   "metadata": {},
   "outputs": [
    {
     "name": "stdout",
     "output_type": "stream",
     "text": [
      "Data Type: int32\n"
     ]
    }
   ],
   "source": [
    "#Data Type\n",
    "\n",
    "import numpy as np\n",
    "x=np.array([1,2,3,4,5,6,7,8,9,10])\n",
    "print(\"Data Type:\",x.dtype)"
   ]
  },
  {
   "cell_type": "code",
   "execution_count": 23,
   "metadata": {},
   "outputs": [
    {
     "name": "stdout",
     "output_type": "stream",
     "text": [
      "Data Type: float64\n"
     ]
    }
   ],
   "source": [
    "#Dtype\n",
    "x1=np.array([1.2,1.3,1.4,1.5])\n",
    "print(\"Data Type:\",x1.dtype)"
   ]
  },
  {
   "cell_type": "code",
   "execution_count": 24,
   "metadata": {},
   "outputs": [
    {
     "name": "stdout",
     "output_type": "stream",
     "text": [
      "Data Type: <U1\n"
     ]
    }
   ],
   "source": [
    "#Dtype\n",
    "x2=np.array([\"A\",\"B\",\"C\",\"D\"])\n",
    "print(\"Data Type:\",x2.dtype)"
   ]
  },
  {
   "cell_type": "code",
   "execution_count": 25,
   "metadata": {},
   "outputs": [
    {
     "name": "stdout",
     "output_type": "stream",
     "text": [
      "Data Type: <U11\n"
     ]
    }
   ],
   "source": [
    "#Dtype\n",
    "x3=np.array([\"A\",\"B\",1,2])\n",
    "print(\"Data Type:\",x3.dtype)"
   ]
  },
  {
   "cell_type": "code",
   "execution_count": 26,
   "metadata": {},
   "outputs": [
    {
     "name": "stdout",
     "output_type": "stream",
     "text": [
      "Data Type: int32\n"
     ]
    }
   ],
   "source": [
    "#Dtype\n",
    "x4=np.array([1,2,3,4,])\n",
    "print(\"Data Type:\",x4.dtype)"
   ]
  },
  {
   "cell_type": "code",
   "execution_count": 27,
   "metadata": {},
   "outputs": [
    {
     "name": "stdout",
     "output_type": "stream",
     "text": [
      "Data Type: int8\n"
     ]
    }
   ],
   "source": [
    "#Dtype\n",
    "x4=np.array([1,2,3,4,],dtype=np.int8)\n",
    "print(\"Data Type:\",x4.dtype)"
   ]
  },
  {
   "cell_type": "code",
   "execution_count": 28,
   "metadata": {},
   "outputs": [
    {
     "name": "stdout",
     "output_type": "stream",
     "text": [
      "Data Type: int8\n",
      "[1 2 3 4]\n"
     ]
    }
   ],
   "source": [
    "#Dtype\n",
    "x4=np.array([1,2,3,4,],dtype=np.int8)\n",
    "print(\"Data Type:\",x4.dtype)\n",
    "print(x4)"
   ]
  },
  {
   "cell_type": "code",
   "execution_count": 29,
   "metadata": {},
   "outputs": [
    {
     "name": "stdout",
     "output_type": "stream",
     "text": [
      "Data Type: float32\n",
      "[1. 2. 3. 4.]\n"
     ]
    }
   ],
   "source": [
    "#Dtype\n",
    "x5=np.array([1,2,3,4,],dtype=\"f\")\n",
    "print(\"Data Type:\",x5.dtype)\n",
    "print(x5)"
   ]
  },
  {
   "cell_type": "code",
   "execution_count": 30,
   "metadata": {},
   "outputs": [
    {
     "name": "stdout",
     "output_type": "stream",
     "text": [
      "Data Type: int32\n",
      "Data Type: float32\n",
      "[1 2 3 4]\n",
      "[1. 2. 3. 4.]\n"
     ]
    }
   ],
   "source": [
    "#Dtype\n",
    "x6=np.array([1,2,3,4,])\n",
    "new=np.float32(x6)\n",
    "\n",
    "print(\"Data Type:\",x6.dtype)\n",
    "print(\"Data Type:\",new.dtype)\n",
    "\n",
    "print(x6)\n",
    "print(new)"
   ]
  },
  {
   "cell_type": "markdown",
   "metadata": {},
   "source": [
    "# #Arithmetic Operation"
   ]
  },
  {
   "cell_type": "code",
   "execution_count": 31,
   "metadata": {},
   "outputs": [
    {
     "name": "stdout",
     "output_type": "stream",
     "text": [
      "[4 5 6 7]\n"
     ]
    }
   ],
   "source": [
    "#Arithmetic Operation\n",
    "#add\n",
    "import numpy as np\n",
    "x=np.array([1,2,3,4])\n",
    "xadd= x+3\n",
    "print(xadd)"
   ]
  },
  {
   "cell_type": "code",
   "execution_count": 32,
   "metadata": {},
   "outputs": [
    {
     "name": "stdout",
     "output_type": "stream",
     "text": [
      "[2 4 6 8]\n"
     ]
    }
   ],
   "source": [
    "#add\n",
    "x1=np.array([1,2,3,4])\n",
    "x2=np.array([1,2,3,4])\n",
    "xadd= x1+x2\n",
    "print(xadd)\n"
   ]
  },
  {
   "cell_type": "code",
   "execution_count": 33,
   "metadata": {},
   "outputs": [
    {
     "name": "stdout",
     "output_type": "stream",
     "text": [
      "[[1 2 3 4]\n",
      " [1 2 3 4]]\n",
      "\n",
      "[[1 2 3 4]\n",
      " [1 2 3 4]]\n",
      "\n",
      "[[2 4 6 8]\n",
      " [2 4 6 8]]\n"
     ]
    }
   ],
   "source": [
    "\n",
    "#2d Array\n",
    "#add\n",
    "x3=np.array([[1,2,3,4],[1,2,3,4]])\n",
    "x4=np.array([[1,2,3,4],[1,2,3,4,]])\n",
    "\n",
    "print(x3)\n",
    "print()\n",
    "print(x4)\n",
    "print()\n",
    "\n",
    "xadd= x3+x4\n",
    "print(xadd)\n"
   ]
  },
  {
   "cell_type": "code",
   "execution_count": 34,
   "metadata": {},
   "outputs": [
    {
     "name": "stdout",
     "output_type": "stream",
     "text": [
      "[-2 -1  0  1]\n"
     ]
    }
   ],
   "source": [
    "#sub\n",
    "x=np.array([1,2,3,4])\n",
    "xsub= x-3\n",
    "print(xsub)"
   ]
  },
  {
   "cell_type": "code",
   "execution_count": 35,
   "metadata": {},
   "outputs": [
    {
     "name": "stdout",
     "output_type": "stream",
     "text": [
      "[0 0 0 0]\n"
     ]
    }
   ],
   "source": [
    "\n",
    "#sub\n",
    "x1=np.array([1,2,3,4])\n",
    "x2=np.array([1,2,3,4])\n",
    "xsub= x1-x2\n",
    "print(xsub)\n"
   ]
  },
  {
   "cell_type": "code",
   "execution_count": 36,
   "metadata": {},
   "outputs": [
    {
     "name": "stdout",
     "output_type": "stream",
     "text": [
      "[[1 2 3 4]\n",
      " [1 2 3 4]]\n",
      "\n",
      "[[1 2 3 4]\n",
      " [1 2 3 4]]\n",
      "\n",
      "[[0 0 0 0]\n",
      " [0 0 0 0]]\n"
     ]
    }
   ],
   "source": [
    "#2D Array\n",
    "#sub\n",
    "x3=np.array([[1,2,3,4],[1,2,3,4]])\n",
    "x4=np.array([[1,2,3,4],[1,2,3,4,]])\n",
    "\n",
    "print(x3)\n",
    "print()\n",
    "print(x4)\n",
    "print()\n",
    "\n",
    "xsub= x3-x4\n",
    "print(xsub)\n"
   ]
  },
  {
   "cell_type": "code",
   "execution_count": 37,
   "metadata": {},
   "outputs": [
    {
     "name": "stdout",
     "output_type": "stream",
     "text": [
      "[ 3  6  9 12]\n"
     ]
    }
   ],
   "source": [
    "#mul\n",
    "x=np.array([1,2,3,4])\n",
    "xmul= x*3\n",
    "print(xmul)"
   ]
  },
  {
   "cell_type": "code",
   "execution_count": 38,
   "metadata": {},
   "outputs": [
    {
     "name": "stdout",
     "output_type": "stream",
     "text": [
      "[ 1  4  9 16]\n"
     ]
    }
   ],
   "source": [
    "#mul\n",
    "x1=np.array([1,2,3,4])\n",
    "x2=np.array([1,2,3,4])\n",
    "xmul= x1*x2\n",
    "print(xmul)\n"
   ]
  },
  {
   "cell_type": "code",
   "execution_count": 39,
   "metadata": {},
   "outputs": [
    {
     "name": "stdout",
     "output_type": "stream",
     "text": [
      "[[1 2 3 4]\n",
      " [1 2 3 4]]\n",
      "\n",
      "[[1 2 3 4]\n",
      " [1 2 3 4]]\n",
      "\n",
      "[[ 1  4  9 16]\n",
      " [ 1  4  9 16]]\n"
     ]
    }
   ],
   "source": [
    "#2D Array\n",
    "#mul\n",
    "x3=np.array([[1,2,3,4],[1,2,3,4]])\n",
    "x4=np.array([[1,2,3,4],[1,2,3,4,]])\n",
    "\n",
    "print(x3)\n",
    "print()\n",
    "print(x4)\n",
    "print()\n",
    "\n",
    "xmul= x3*x4\n",
    "print(xmul)\n"
   ]
  },
  {
   "cell_type": "code",
   "execution_count": 40,
   "metadata": {},
   "outputs": [
    {
     "name": "stdout",
     "output_type": "stream",
     "text": [
      "[1 2 0 1]\n"
     ]
    }
   ],
   "source": [
    "#mod\n",
    "x=np.array([1,2,3,4])\n",
    "xmod= x%3\n",
    "print(xmod)"
   ]
  },
  {
   "cell_type": "code",
   "execution_count": 41,
   "metadata": {},
   "outputs": [
    {
     "name": "stdout",
     "output_type": "stream",
     "text": [
      "[0 0 0 0]\n"
     ]
    }
   ],
   "source": [
    "#mod\n",
    "x1=np.array([1,2,3,4])\n",
    "x2=np.array([1,2,3,4])\n",
    "xmod= x1%x2\n",
    "print(xmod)"
   ]
  },
  {
   "cell_type": "markdown",
   "metadata": {},
   "source": [
    "# #Arithmetic Function"
   ]
  },
  {
   "cell_type": "code",
   "execution_count": 42,
   "metadata": {},
   "outputs": [
    {
     "name": "stdout",
     "output_type": "stream",
     "text": [
      "min:  1\n"
     ]
    }
   ],
   "source": [
    "#Arithmetic Function\n",
    "#minimum\n",
    "import numpy as np\n",
    "x=np.array([1,2,3,4])\n",
    "\n",
    "print(\"min: \", np.min(x))"
   ]
  },
  {
   "cell_type": "code",
   "execution_count": 43,
   "metadata": {},
   "outputs": [
    {
     "name": "stdout",
     "output_type": "stream",
     "text": [
      "max:  4\n"
     ]
    }
   ],
   "source": [
    "#maximum\n",
    "import numpy as np\n",
    "x=np.array([1,2,3,4])\n",
    "\n",
    "print(\"max: \", np.max(x))"
   ]
  },
  {
   "cell_type": "code",
   "execution_count": 44,
   "metadata": {},
   "outputs": [
    {
     "name": "stdout",
     "output_type": "stream",
     "text": [
      "min:  1 0\n"
     ]
    }
   ],
   "source": [
    "#argmin\n",
    "import numpy as np\n",
    "x=np.array([1,2,3,4])\n",
    "\n",
    "print(\"min: \", np.min(x),np.argmin(x))"
   ]
  },
  {
   "cell_type": "code",
   "execution_count": 45,
   "metadata": {},
   "outputs": [
    {
     "name": "stdout",
     "output_type": "stream",
     "text": [
      "max:  4 3\n"
     ]
    }
   ],
   "source": [
    "#argmax\n",
    "import numpy as np\n",
    "x=np.array([1,2,3,4])\n",
    "\n",
    "print(\"max: \", np.max(x),np.argmax(x))"
   ]
  },
  {
   "cell_type": "code",
   "execution_count": 46,
   "metadata": {},
   "outputs": [
    {
     "name": "stdout",
     "output_type": "stream",
     "text": [
      "sqrt: [1.         1.41421356 1.73205081 2.        ]\n"
     ]
    }
   ],
   "source": [
    "#sqrt\n",
    "import numpy as np\n",
    "x=np.array([1,2,3,4])\n",
    "\n",
    "print(\"sqrt:\",np.sqrt(x))"
   ]
  },
  {
   "cell_type": "code",
   "execution_count": 47,
   "metadata": {},
   "outputs": [
    {
     "name": "stdout",
     "output_type": "stream",
     "text": [
      "sin: [ 0.84147098  0.90929743  0.14112001 -0.7568025 ]\n",
      "cos: [ 0.54030231 -0.41614684 -0.9899925  -0.65364362]\n"
     ]
    }
   ],
   "source": [
    "#sin\n",
    "#cos\n",
    "import numpy as np\n",
    "x=np.array([1,2,3,4])\n",
    "\n",
    "print(\"sin:\",np.sin(x))\n",
    "print(\"cos:\",np.cos(x))"
   ]
  },
  {
   "cell_type": "code",
   "execution_count": 48,
   "metadata": {},
   "outputs": [
    {
     "name": "stdout",
     "output_type": "stream",
     "text": [
      "cumsum: [ 1  3  6 10]\n"
     ]
    }
   ],
   "source": [
    "#cumsum\n",
    "import numpy as np\n",
    "x=np.array([1,2,3,4])\n",
    "\n",
    "print(\"cumsum:\",np.cumsum(x))"
   ]
  },
  {
   "cell_type": "markdown",
   "metadata": {},
   "source": [
    "# #Shape"
   ]
  },
  {
   "cell_type": "code",
   "execution_count": 49,
   "metadata": {},
   "outputs": [
    {
     "name": "stdout",
     "output_type": "stream",
     "text": [
      "[[1 2 3 4]\n",
      " [1 2 3 4]]\n",
      "\n",
      "(2, 4)\n"
     ]
    }
   ],
   "source": [
    "#Shape\n",
    "\n",
    "import numpy as np\n",
    "x=np.array([[1,2,3,4],[1,2,3,4,]])\n",
    "print(x)\n",
    "print()\n",
    "print(x.shape)"
   ]
  },
  {
   "cell_type": "markdown",
   "metadata": {},
   "source": [
    "# #Reshape"
   ]
  },
  {
   "cell_type": "code",
   "execution_count": 50,
   "metadata": {},
   "outputs": [
    {
     "name": "stdout",
     "output_type": "stream",
     "text": [
      "[1 2 3 4 5 6]\n",
      "1\n",
      "\n",
      "[[1 2]\n",
      " [3 4]\n",
      " [5 6]]\n",
      "2\n"
     ]
    }
   ],
   "source": [
    "#Reshape\n",
    "x1=np.array([1,2,3,4,5,6])\n",
    "print(x1)\n",
    "print(x1.ndim)\n",
    "\n",
    "print()\n",
    "\n",
    "x2=x1.reshape(3,2)\n",
    "\n",
    "print(x2)\n",
    "print(x2.ndim)"
   ]
  },
  {
   "cell_type": "code",
   "execution_count": 51,
   "metadata": {},
   "outputs": [
    {
     "name": "stdout",
     "output_type": "stream",
     "text": [
      "[ 1  2  3  4  5  6  7  8  9 10 11 12]\n",
      "1\n",
      "\n",
      "[[[ 1  2]\n",
      "  [ 3  4]\n",
      "  [ 5  6]]\n",
      "\n",
      " [[ 7  8]\n",
      "  [ 9 10]\n",
      "  [11 12]]]\n",
      "3\n",
      "\n",
      "[ 1  2  3  4  5  6  7  8  9 10 11 12]\n",
      "1\n"
     ]
    }
   ],
   "source": [
    "#Reshape\n",
    "#one to three to one\n",
    "\n",
    "import numpy as np\n",
    "x1=np.array([1,2,3,4,5,6,7,8,9,10,11,12])\n",
    "print(x1)\n",
    "print(x1.ndim)\n",
    "\n",
    "print()\n",
    "\n",
    "x2=x1.reshape(2,3,2)\n",
    "\n",
    "print(x2)\n",
    "print(x2.ndim) \n",
    "\n",
    "print()\n",
    "\n",
    "one = x2.reshape(-1)\n",
    "print(one)\n",
    "print(one.ndim)"
   ]
  },
  {
   "cell_type": "code",
   "execution_count": 52,
   "metadata": {},
   "outputs": [
    {
     "name": "stdout",
     "output_type": "stream",
     "text": [
      "[[1]\n",
      " [2]\n",
      " [3]\n",
      " [4]\n",
      " [5]\n",
      " [6]]\n",
      "(6, 1)\n",
      "\n",
      "[[1 2 3]\n",
      " [4 5 6]]\n",
      "(6, 1)\n"
     ]
    }
   ],
   "source": [
    "#Shape and Reshape\n",
    "x=np.array([[1],[2],[3],[4],[5],[6]])\n",
    "print(x)\n",
    "print(x.shape)\n",
    "print()\n",
    "print(x.reshape(2,3))\n",
    "print(x.shape)"
   ]
  },
  {
   "cell_type": "markdown",
   "metadata": {},
   "source": [
    "# #Broadcast"
   ]
  },
  {
   "cell_type": "code",
   "execution_count": 53,
   "metadata": {},
   "outputs": [
    {
     "ename": "ValueError",
     "evalue": "operands could not be broadcast together with shapes (4,) (3,) ",
     "output_type": "error",
     "traceback": [
      "\u001b[1;31m---------------------------------------------------------------------------\u001b[0m",
      "\u001b[1;31mValueError\u001b[0m                                Traceback (most recent call last)",
      "Cell \u001b[1;32mIn[53], line 5\u001b[0m\n\u001b[0;32m      3\u001b[0m x\u001b[38;5;241m=\u001b[39mnp\u001b[38;5;241m.\u001b[39marray([\u001b[38;5;241m1\u001b[39m,\u001b[38;5;241m2\u001b[39m,\u001b[38;5;241m3\u001b[39m,\u001b[38;5;241m4\u001b[39m])\n\u001b[0;32m      4\u001b[0m x1\u001b[38;5;241m=\u001b[39mnp\u001b[38;5;241m.\u001b[39marray([\u001b[38;5;241m1\u001b[39m,\u001b[38;5;241m2\u001b[39m,\u001b[38;5;241m3\u001b[39m])\n\u001b[1;32m----> 5\u001b[0m \u001b[38;5;28mprint\u001b[39m(x\u001b[38;5;241m+\u001b[39mx1)\n",
      "\u001b[1;31mValueError\u001b[0m: operands could not be broadcast together with shapes (4,) (3,) "
     ]
    }
   ],
   "source": [
    "#Broadcast Error\n",
    "import numpy as np\n",
    "x=np.array([1,2,3,4])\n",
    "x1=np.array([1,2,3])\n",
    "print(x+x1)"
   ]
  },
  {
   "cell_type": "code",
   "execution_count": 54,
   "metadata": {},
   "outputs": [
    {
     "name": "stdout",
     "output_type": "stream",
     "text": [
      "[2 4 6 8]\n"
     ]
    }
   ],
   "source": [
    "#Broadcast Learn\n",
    "import numpy as np\n",
    "x=np.array([1,2,3,4])\n",
    "x1=np.array([1,2,3,4])\n",
    "print(x+x1)"
   ]
  },
  {
   "cell_type": "code",
   "execution_count": 55,
   "metadata": {},
   "outputs": [
    {
     "name": "stdout",
     "output_type": "stream",
     "text": [
      "(3,)\n",
      "\n",
      "[1 2 3]\n",
      "\n",
      "(3, 1)\n",
      "\n",
      "[[1]\n",
      " [2]\n",
      " [3]]\n",
      "\n",
      "[[2 3 4]\n",
      " [3 4 5]\n",
      " [4 5 6]]\n"
     ]
    }
   ],
   "source": [
    "import numpy as np\n",
    "\n",
    "x=np.array([1,2,3])\n",
    "print(x.shape)\n",
    "print()\n",
    "print(x)\n",
    "print()\n",
    "\n",
    "x1=np.array([[1],[2],[3]])\n",
    "print(x1.shape)\n",
    "print()\n",
    "print(x1)\n",
    "print()\n",
    "\n",
    "print(x+x1)"
   ]
  },
  {
   "cell_type": "markdown",
   "metadata": {},
   "source": [
    "# #Indexing"
   ]
  },
  {
   "cell_type": "code",
   "execution_count": 56,
   "metadata": {},
   "outputs": [
    {
     "name": "stdout",
     "output_type": "stream",
     "text": [
      "index ele: 2\n",
      "index ele: 3\n"
     ]
    }
   ],
   "source": [
    "#Indexing\n",
    "#1D\n",
    "import numpy as np\n",
    "x=np.array([1,2,3,4])\n",
    "#           0,1,2,3\n",
    "#          -4,-3,-2,-1   \n",
    "print(\"index ele:\",x[1])\n",
    "print(\"index ele:\",x[-2])"
   ]
  },
  {
   "cell_type": "code",
   "execution_count": 57,
   "metadata": {},
   "outputs": [
    {
     "name": "stdout",
     "output_type": "stream",
     "text": [
      "[[1 2 3]\n",
      " [4 5 6]]\n",
      "2\n",
      "\n",
      "index ele: 5\n"
     ]
    }
   ],
   "source": [
    "#indexing\n",
    "#2D\n",
    "x=np.array([[1,2,3],[4,5,6]]) \n",
    "print(x)\n",
    "print(x.ndim)\n",
    "print()\n",
    "\n",
    "print(\"index ele:\",x[1,1])"
   ]
  },
  {
   "cell_type": "code",
   "execution_count": 58,
   "metadata": {},
   "outputs": [
    {
     "name": "stdout",
     "output_type": "stream",
     "text": [
      "[[[1 2 3]\n",
      "  [4 5 6]\n",
      "  [7 8 9]]]\n",
      "3\n",
      "index ele: 6\n"
     ]
    }
   ],
   "source": [
    "x=np.array([[[1,2,3],[4,5,6],[7,8,9]]])\n",
    "print(x)\n",
    "print(x.ndim)\n",
    "\n",
    "print(\"index ele:\",x[0,1,2])"
   ]
  },
  {
   "cell_type": "markdown",
   "metadata": {},
   "source": [
    "#  #Slicing"
   ]
  },
  {
   "cell_type": "code",
   "execution_count": 2,
   "metadata": {},
   "outputs": [
    {
     "name": "stdout",
     "output_type": "stream",
     "text": [
      "[1 2 3 4 5 6]\n",
      "\n",
      "2 to 5: [2 3 4 5]\n",
      "2 to End: [2 3 4 5 6]\n",
      "start to 5: [1 2 3 4 5]\n",
      "start to End: [1 2 3 4 5 6]\n",
      "stop: [1 3 5]\n"
     ]
    }
   ],
   "source": [
    "#Slicing\n",
    "\n",
    "import numpy as np\n",
    "x=np.array([1,2,3,4,5,6])\n",
    "print(x)\n",
    "print()\n",
    "print(\"2 to 5:\",x[1:5])\n",
    "print(\"2 to End:\",x[1:])\n",
    "print(\"start to 5:\",x[:5])\n",
    "print(\"start to End:\",x[:])\n",
    "print(\"stop:\",x[::2])"
   ]
  },
  {
   "cell_type": "code",
   "execution_count": 60,
   "metadata": {},
   "outputs": [
    {
     "name": "stdout",
     "output_type": "stream",
     "text": [
      "[[1 2 3]\n",
      " [4 5 6]\n",
      " [7 8 9]]\n",
      "\n",
      "1 to 9: [2 3]\n",
      "1 to 9: [5 6]\n",
      "1 to 9: [8 9]\n"
     ]
    }
   ],
   "source": [
    "#slicing\n",
    "x1=np.array([[1,2,3],[4,5,6],[7,8,9]])\n",
    "print(x1)\n",
    "print()\n",
    "\n",
    "print(\"1 to 9:\", x1[0,1:])\n",
    "print(\"1 to 9:\", x1[1,1:])\n",
    "print(\"1 to 9:\", x1[2,1:])"
   ]
  },
  {
   "cell_type": "markdown",
   "metadata": {},
   "source": [
    "# #Iteration"
   ]
  },
  {
   "cell_type": "code",
   "execution_count": 61,
   "metadata": {},
   "outputs": [
    {
     "name": "stdout",
     "output_type": "stream",
     "text": [
      "[1 2 3 4 5 6]\n",
      "\n",
      "1\n",
      "2\n",
      "3\n",
      "4\n",
      "5\n",
      "6\n"
     ]
    }
   ],
   "source": [
    "#Iteration\n",
    "\n",
    "import numpy as np\n",
    "x=np.array([1,2,3,4,5,6])\n",
    "print(x)\n",
    "print()\n",
    "for i in x :\n",
    "    print(i)"
   ]
  },
  {
   "cell_type": "code",
   "execution_count": 62,
   "metadata": {},
   "outputs": [
    {
     "name": "stdout",
     "output_type": "stream",
     "text": [
      "[[1 2 3 4]\n",
      " [1 2 3 4]]\n",
      "\n",
      "[1 2 3 4]\n",
      "[1 2 3 4]\n",
      "\n",
      "1\n",
      "2\n",
      "3\n",
      "4\n",
      "1\n",
      "2\n",
      "3\n",
      "4\n"
     ]
    }
   ],
   "source": [
    "#Iteration for 2D\n",
    "import numpy as np\n",
    "x=np.array([[1,2,3,4],[1,2,3,4]])\n",
    "print(x)\n",
    "\n",
    "print()\n",
    " \n",
    "for j in x:\n",
    "    print(j)\n",
    "\n",
    "print()\n",
    "\n",
    "for k in x:\n",
    "    for l in k:\n",
    "        print(l)"
   ]
  },
  {
   "cell_type": "code",
   "execution_count": 63,
   "metadata": {},
   "outputs": [
    {
     "name": "stdout",
     "output_type": "stream",
     "text": [
      "[[[6 5 4]\n",
      "  [3 2 1]]]\n",
      "3\n",
      "\n",
      "\n",
      "6\n",
      "5\n",
      "4\n",
      "3\n",
      "2\n",
      "1\n"
     ]
    }
   ],
   "source": [
    "#Iteration for 3D 1st method\n",
    "import numpy as np\n",
    "x=np.array([[[6,5,4],[3,2,1]]])\n",
    "print(x)\n",
    "print(x.ndim)\n",
    "print()\n",
    "    \n",
    "print()\n",
    "\n",
    "for s in x:\n",
    "    for p in s:\n",
    "        for r in p:\n",
    "            print(r)\n"
   ]
  },
  {
   "cell_type": "code",
   "execution_count": 64,
   "metadata": {},
   "outputs": [
    {
     "name": "stdout",
     "output_type": "stream",
     "text": [
      "[[[6 5 4]\n",
      "  [3 2 1]]]\n",
      "3\n",
      "\n",
      "6\n",
      "5\n",
      "4\n",
      "3\n",
      "2\n",
      "1\n"
     ]
    }
   ],
   "source": [
    "#Iteration for 3D 2nd method\n",
    "import numpy as np\n",
    "x=np.array([[[6,5,4],[3,2,1]]])\n",
    "print(x)\n",
    "print(x.ndim)\n",
    "print()\n",
    "\n",
    "for i in np.nditer(x):\n",
    "    print(i)    \n",
    "\n"
   ]
  },
  {
   "cell_type": "markdown",
   "metadata": {},
   "source": [
    "# #Copy vs View"
   ]
  },
  {
   "cell_type": "code",
   "execution_count": 65,
   "metadata": {},
   "outputs": [
    {
     "name": "stdout",
     "output_type": "stream",
     "text": [
      "x: [1 2 3 4]\n",
      "copy: [1 2 3 4]\n"
     ]
    }
   ],
   "source": [
    "#COPY vs VIEW\n",
    "\n",
    "#Copy vs View #01\n",
    "import numpy as np\n",
    "x= np.array([1,2,3,4])\n",
    "co=x.copy()\n",
    "print(\"x:\",x)\n",
    "print(\"copy:\",co)"
   ]
  },
  {
   "cell_type": "code",
   "execution_count": 66,
   "metadata": {},
   "outputs": [
    {
     "name": "stdout",
     "output_type": "stream",
     "text": [
      "x: [4 3 2 1]\n",
      "view: [4 3 2 1]\n"
     ]
    }
   ],
   "source": [
    "#Copy vs View #02\n",
    "x=np.array([4,3,2,1])\n",
    "vi=x.view()\n",
    "print(\"x:\",x)\n",
    "print(\"view:\",vi)"
   ]
  },
  {
   "cell_type": "code",
   "execution_count": 67,
   "metadata": {},
   "outputs": [
    {
     "name": "stdout",
     "output_type": "stream",
     "text": [
      "x: [ 1 40  3  4]\n",
      "copy: [1 2 3 4]\n"
     ]
    }
   ],
   "source": [
    "#Copy vs View #03\n",
    "import numpy as np\n",
    "x= np.array([1,2,3,4])\n",
    "co=x.copy()\n",
    "x[1]=40\n",
    "print(\"x:\",x)\n",
    "print(\"copy:\",co)"
   ]
  },
  {
   "cell_type": "code",
   "execution_count": 68,
   "metadata": {},
   "outputs": [
    {
     "name": "stdout",
     "output_type": "stream",
     "text": [
      "x: [ 4 40  2  1]\n",
      "view: [ 4 40  2  1]\n"
     ]
    }
   ],
   "source": [
    "#Copy vs View #04\n",
    "x=np.array([4,3,2,1])\n",
    "vi=x.view()\n",
    "x[1]=40\n",
    "print(\"x:\",x)\n",
    "print(\"view:\",vi)"
   ]
  },
  {
   "cell_type": "markdown",
   "metadata": {},
   "source": [
    "# #Joining"
   ]
  },
  {
   "cell_type": "code",
   "execution_count": 69,
   "metadata": {},
   "outputs": [
    {
     "name": "stdout",
     "output_type": "stream",
     "text": [
      "[1 2 3 4 5 6 7 8]\n"
     ]
    }
   ],
   "source": [
    "#Join Array\n",
    "#01 1D (concatenate)\n",
    "import numpy as np\n",
    "x=np.array([1,2,3,4])\n",
    "x1=np.array([5,6,7,8])\n",
    "\n",
    "ar=np.concatenate((x,x1))\n",
    "\n",
    "print(ar)\n"
   ]
  },
  {
   "cell_type": "code",
   "execution_count": 70,
   "metadata": {},
   "outputs": [
    {
     "name": "stdout",
     "output_type": "stream",
     "text": [
      "[[1 2 3 4]\n",
      " [5 6 7 8]]\n",
      "\n",
      "[[1 5]\n",
      " [2 6]\n",
      " [3 7]\n",
      " [4 8]]\n",
      "\n",
      "[1 2 3 4 5 6 7 8]\n",
      "\n",
      "[[1 2 3 4]\n",
      " [5 6 7 8]]\n",
      "\n",
      "[[[1 5]\n",
      "  [2 6]\n",
      "  [3 7]\n",
      "  [4 8]]]\n"
     ]
    }
   ],
   "source": [
    "#Join Array\n",
    "#01 1D (Stack)\n",
    "import numpy as np\n",
    "x=np.array([1,2,3,4])\n",
    "x1=np.array([5,6,7,8])\n",
    "\n",
    "ar=np.stack((x,x1),axis=0) #0\n",
    "ar1=np.stack((x,x1),axis=1) #1\n",
    "ar2=np.hstack((x,x1)) #row\n",
    "ar3=np.vstack((x,x1)) #column\n",
    "ar4=np.dstack((x,x1)) #hight\n",
    "\n",
    "print(ar)\n",
    "print()\n",
    "print(ar1)\n",
    "print()\n",
    "print(ar2)\n",
    "print()\n",
    "print(ar3)\n",
    "print()\n",
    "print(ar4)"
   ]
  },
  {
   "cell_type": "code",
   "execution_count": 71,
   "metadata": {},
   "outputs": [
    {
     "name": "stdout",
     "output_type": "stream",
     "text": [
      "[[1 2]\n",
      " [3 4]]\n",
      "\n",
      "[[5 6]\n",
      " [7 8]]\n",
      "\n",
      "[[1 2]\n",
      " [3 4]\n",
      " [5 6]\n",
      " [7 8]]\n",
      "\n",
      "[[1 2 5 6]\n",
      " [3 4 7 8]]\n"
     ]
    }
   ],
   "source": [
    "#Join Array\n",
    "#02 2D (concatenate)\n",
    "x=np.array([[1,2],[3,4]])\n",
    "x1=np.array([[5,6],[7,8]])\n",
    "\n",
    "ar1=np.concatenate((x,x1),axis=0)\n",
    "ar=np.concatenate((x,x1),axis=1)\n",
    "\n",
    "\n",
    "print(x)\n",
    "print()\n",
    "print(x1)\n",
    "print()\n",
    "#axis 0\n",
    "print(ar1)\n",
    "print()\n",
    "#axis 1\n",
    "print(ar)\n"
   ]
  },
  {
   "cell_type": "code",
   "execution_count": 72,
   "metadata": {},
   "outputs": [
    {
     "name": "stdout",
     "output_type": "stream",
     "text": [
      "[[[1 2]\n",
      "  [5 6]]\n",
      "\n",
      " [[3 4]\n",
      "  [7 8]]]\n"
     ]
    }
   ],
   "source": [
    "#Join Array\n",
    "#02 2D (stack)\n",
    "x=np.array([[1,2],[3,4]])\n",
    "x1=np.array([[5,6],[7,8]])\n",
    "\n",
    "ar=np.stack((x,x1),axis=0)\n",
    "ar1=np.stack((x,x1),axis=1)\n",
    "\n",
    "print(ar1)\n",
    "\n"
   ]
  },
  {
   "cell_type": "markdown",
   "metadata": {},
   "source": [
    "# #Spliting"
   ]
  },
  {
   "cell_type": "code",
   "execution_count": 95,
   "metadata": {},
   "outputs": [
    {
     "name": "stdout",
     "output_type": "stream",
     "text": [
      "[1 2 3 4 5]\n",
      "\n",
      "[[1 2 3]]\n",
      "[[4 5 6]]\n",
      "[]\n",
      "\n",
      "[array([1, 2]), array([3, 4]), array([5])]\n"
     ]
    }
   ],
   "source": [
    "#Split Array\n",
    "#01\n",
    "import numpy as np\n",
    "x= np.array([1,2,3,4,5])\n",
    "print(x)\n",
    "print()\n",
    "print(ar[0])\n",
    "print(ar[1])\n",
    "print(ar[2])\n",
    "print()\n",
    "ar=np.array_split(x,3)\n",
    "print(ar)"
   ]
  },
  {
   "cell_type": "code",
   "execution_count": 74,
   "metadata": {},
   "outputs": [
    {
     "name": "stdout",
     "output_type": "stream",
     "text": [
      "[[1 2 3]\n",
      " [4 5 6]]\n",
      "\n",
      "[array([[1, 2, 3]]), array([[4, 5, 6]]), array([], shape=(0, 3), dtype=int32)]\n"
     ]
    }
   ],
   "source": [
    "#Split Array\n",
    "#02\n",
    "x= np.array([[1,2,3],[4,5,6]])\n",
    "print(x)\n",
    "print()\n",
    "ar=np.array_split(x,3)\n",
    "print(ar)"
   ]
  },
  {
   "cell_type": "markdown",
   "metadata": {},
   "source": [
    "# #Searching"
   ]
  },
  {
   "cell_type": "code",
   "execution_count": 75,
   "metadata": {},
   "outputs": [
    {
     "name": "stdout",
     "output_type": "stream",
     "text": [
      "(x==5): (array([2, 4, 6], dtype=int64),)\n",
      "\n",
      "(x%2)==0): (array([1, 3, 5, 7], dtype=int64),)\n"
     ]
    }
   ],
   "source": [
    "#Search\n",
    "\n",
    "import numpy as np\n",
    "x=np.array([1,2,5,4,5,6,5,8])\n",
    "#index      0,1,2,3,4,5,6,7\n",
    "var=np.where (x==5)\n",
    "var1=np.where ((x%2)==0)\n",
    "print(\"(x==5):\",var)\n",
    "print()\n",
    "print(\"(x%2)==0):\",var1) "
   ]
  },
  {
   "cell_type": "markdown",
   "metadata": {},
   "source": [
    "# #Sorting"
   ]
  },
  {
   "cell_type": "code",
   "execution_count": 76,
   "metadata": {},
   "outputs": [
    {
     "name": "stdout",
     "output_type": "stream",
     "text": [
      "[1 2 3 4 5 6 7 8 9]\n"
     ]
    }
   ],
   "source": [
    "#Sort (Number)\n",
    "#1D Array\n",
    "import numpy as np\n",
    "x=np.array([4,2,3,1,5,8,7,6,9])\n",
    "#index      0,1,2,3,4,5,6,7,8\n",
    "\n",
    "print(np.sort(x))"
   ]
  },
  {
   "cell_type": "code",
   "execution_count": 77,
   "metadata": {},
   "outputs": [
    {
     "name": "stdout",
     "output_type": "stream",
     "text": [
      "[[2 3 4]\n",
      " [1 5 8]\n",
      " [6 7 9]]\n"
     ]
    }
   ],
   "source": [
    "#Sort (Number)\n",
    "#2D Array\n",
    "import numpy as np\n",
    "x=np.array([[4,2,3],[1,5,8],[7,6,9]])\n",
    "#index       0,1,2,  3,4,5,  6,7,8\n",
    "\n",
    "print(np.sort(x))"
   ]
  },
  {
   "cell_type": "code",
   "execution_count": 78,
   "metadata": {},
   "outputs": [
    {
     "name": "stdout",
     "output_type": "stream",
     "text": [
      "['a' 'b' 'c' 'd' 'e' 'f' 'g' 'h' 'k']\n"
     ]
    }
   ],
   "source": [
    "#Sort (String)\n",
    "\n",
    "import numpy as np\n",
    "x=np.array([\"c\",\"d\",\"b\",\"a\",\"f\",\"g\",\"e\",\"k\",\"h\"])\n",
    "#index       0,  1,  2,  3,  4,  5,  6,  7,  8\n",
    "\n",
    "print(np.sort(x))"
   ]
  },
  {
   "cell_type": "markdown",
   "metadata": {},
   "source": [
    "# #Shuffle"
   ]
  },
  {
   "cell_type": "code",
   "execution_count": 79,
   "metadata": {},
   "outputs": [
    {
     "name": "stdout",
     "output_type": "stream",
     "text": [
      "[5 1 2 4 3]\n"
     ]
    }
   ],
   "source": [
    "#Shuffle\n",
    "import numpy as np\n",
    "x=np.array([1,2,3,4,5])\n",
    "np.random.shuffle(x)\n",
    "print(x)"
   ]
  },
  {
   "cell_type": "markdown",
   "metadata": {},
   "source": [
    "# #Unique"
   ]
  },
  {
   "cell_type": "code",
   "execution_count": 2,
   "metadata": {},
   "outputs": [
    {
     "name": "stdout",
     "output_type": "stream",
     "text": [
      "(array([1, 2, 3, 4, 5, 6, 7, 8]), array([0, 1, 2, 3, 5, 6, 7, 8], dtype=int64), array([1, 3, 1, 1, 1, 1, 1, 1], dtype=int64))\n"
     ]
    }
   ],
   "source": [
    "#Unique\n",
    "import numpy as np\n",
    "x=np.array([1,2,3,4,2,5,6,7,8,2])\n",
    "var=np.unique(x,return_index=True,return_counts=True)\n",
    "print(var)"
   ]
  },
  {
   "cell_type": "markdown",
   "metadata": {},
   "source": [
    "# #Resize"
   ]
  },
  {
   "cell_type": "code",
   "execution_count": 1,
   "metadata": {},
   "outputs": [
    {
     "name": "stdout",
     "output_type": "stream",
     "text": [
      "[[1 2 3]\n",
      " [4 5 6]]\n",
      "\n",
      "[[1 2]\n",
      " [3 4]\n",
      " [5 6]]\n"
     ]
    }
   ],
   "source": [
    "#Resize\n",
    "import numpy as np\n",
    "x=np.array([1,2,3,4,5,6])\n",
    "y=np.resize(x,(2,3))\n",
    "y1=np.resize(x,(3,2))\n",
    "print(y)\n",
    "print()\n",
    "print(y1)"
   ]
  },
  {
   "cell_type": "markdown",
   "metadata": {},
   "source": [
    "# #Insert"
   ]
  },
  {
   "cell_type": "code",
   "execution_count": 17,
   "metadata": {},
   "outputs": [
    {
     "name": "stdout",
     "output_type": "stream",
     "text": [
      "[1 2 3 4]\n",
      "int32\n",
      "<class 'numpy.ndarray'>\n",
      "\n",
      "[1 2 5 3 4]\n",
      "\n",
      "[1 2 5 3 4 5]\n"
     ]
    }
   ],
   "source": [
    "#Insert\n",
    "#in 1D array\n",
    "import numpy as np\n",
    "x=np.array([1,2,3,4])\n",
    "# index     0,1,2,3\n",
    "print(x)\n",
    "print(x.dtype)\n",
    "print(type(x))\n",
    "y=np.insert(x,2,5)\n",
    "print()\n",
    "print(y)\n",
    "print()\n",
    "y1=np.insert(x,(2,4),5)\n",
    "print(y1)"
   ]
  },
  {
   "cell_type": "code",
   "execution_count": 28,
   "metadata": {},
   "outputs": [
    {
     "name": "stdout",
     "output_type": "stream",
     "text": [
      "[[1 2 3]\n",
      " [4 5 6]\n",
      " [7 7 7]]\n",
      "\n",
      "[[1 2 3]\n",
      " [4 5 6]\n",
      " [7 8 9]]\n",
      "\n",
      "[[1 2 7 3]\n",
      " [4 5 7 6]]\n"
     ]
    }
   ],
   "source": [
    "#Insert\n",
    "#in 2D array\n",
    "import numpy as np\n",
    "x=np.array([[1,2,3],[4,5,6]])\n",
    "\n",
    "y=np.insert(x,2,7,axis=0)\n",
    "print(y)\n",
    "print()\n",
    "y1=np.insert(x,2,(7,8,9),axis=0)\n",
    "print(y1)\n",
    "print()\n",
    "y=np.insert(x,2,7,axis=1)\n",
    "print(y)\n",
    "\n"
   ]
  },
  {
   "cell_type": "markdown",
   "metadata": {},
   "source": [
    "# #Delete"
   ]
  },
  {
   "cell_type": "code",
   "execution_count": 31,
   "metadata": {},
   "outputs": [
    {
     "name": "stdout",
     "output_type": "stream",
     "text": [
      "[1 2 3 4]\n",
      "[1 2 4]\n"
     ]
    }
   ],
   "source": [
    "#Delete\n",
    "\n",
    "import numpy as np\n",
    "x=np.array([1,2,3,4])\n",
    "print(x)\n",
    "d=np.delete(x,2)\n",
    "print(d)"
   ]
  },
  {
   "cell_type": "markdown",
   "metadata": {},
   "source": [
    "# #Matrix"
   ]
  },
  {
   "cell_type": "code",
   "execution_count": 34,
   "metadata": {},
   "outputs": [
    {
     "name": "stdout",
     "output_type": "stream",
     "text": [
      "[[1 2 3]\n",
      " [4 5 6]]\n",
      "<class 'numpy.matrix'>\n"
     ]
    }
   ],
   "source": [
    "#Matrix\n",
    "\n",
    "import numpy as np\n",
    "x=np.matrix([[1,2,3],[4,5,6]])\n",
    "print(x)\n",
    "print(type(x))"
   ]
  },
  {
   "cell_type": "code",
   "execution_count": 38,
   "metadata": {},
   "outputs": [
    {
     "name": "stdout",
     "output_type": "stream",
     "text": [
      "[[1 2 3]\n",
      " [4 5 6]]\n",
      "<class 'numpy.matrix'>\n",
      "\n",
      "[[ 2  4  6]\n",
      " [ 8 10 12]]\n"
     ]
    }
   ],
   "source": [
    "#Matrix (Addition Operation)\n",
    "x=np.matrix([[1,2,3],[4,5,6]])\n",
    "x1=np.matrix([[1,2,3],[4,5,6]])\n",
    "\n",
    "print(x)\n",
    "print(type(x))\n",
    "print()\n",
    "print(x+x1)"
   ]
  },
  {
   "cell_type": "code",
   "execution_count": 5,
   "metadata": {},
   "outputs": [
    {
     "name": "stdout",
     "output_type": "stream",
     "text": [
      "[[1 2 3]\n",
      " [4 5 6]]\n",
      "<class 'numpy.matrix'>\n",
      "\n",
      "[[0 0 0]\n",
      " [0 0 0]]\n"
     ]
    }
   ],
   "source": [
    "#Matrix (Subtraction Operation)\n",
    "x=np.matrix([[1,2,3],[4,5,6]])\n",
    "x1=np.matrix([[1,2,3],[4,5,6]])\n",
    "\n",
    "print(x)\n",
    "print(type(x))\n",
    "print()\n",
    "print(x-x1)"
   ]
  },
  {
   "cell_type": "code",
   "execution_count": 6,
   "metadata": {},
   "outputs": [
    {
     "name": "stdout",
     "output_type": "stream",
     "text": [
      "[[1 2]\n",
      " [4 5]]\n",
      "<class 'numpy.matrix'>\n",
      "\n",
      "[[ 9 12]\n",
      " [24 33]]\n",
      "\n",
      "[[ 9 12]\n",
      " [24 33]]\n"
     ]
    }
   ],
   "source": [
    "#Matrix (Multiplication Operation)\n",
    "import numpy as np\n",
    "x=np.matrix([[1,2],[4,5]])\n",
    "x1=np.matrix([[1,2],[4,5]])\n",
    "\n",
    "print(x)\n",
    "print(type(x))\n",
    "print()\n",
    "print(x*x1)\n",
    "print()\n",
    "print(x.dot(x1))"
   ]
  },
  {
   "cell_type": "markdown",
   "metadata": {},
   "source": [
    "# #Matrix Function in Numpy Arrays  "
   ]
  },
  {
   "cell_type": "code",
   "execution_count": 8,
   "metadata": {},
   "outputs": [
    {
     "name": "stdout",
     "output_type": "stream",
     "text": [
      "[[1 2 3]\n",
      " [5 6 7]]\n",
      "\n",
      "[[1 5]\n",
      " [2 6]\n",
      " [3 7]]\n",
      "\n",
      "[[1 5]\n",
      " [2 6]\n",
      " [3 7]]\n"
     ]
    }
   ],
   "source": [
    "#Transpose\n",
    "import numpy as np\n",
    "x= np.matrix([[1,2,3],[5,6,7]])\n",
    "print(x)\n",
    "print()\n",
    "print(np.transpose(x))\n",
    "print()\n",
    "print(x.T)"
   ]
  },
  {
   "cell_type": "code",
   "execution_count": 14,
   "metadata": {},
   "outputs": [
    {
     "name": "stdout",
     "output_type": "stream",
     "text": [
      "[[1 2 3]\n",
      " [5 6 7]]\n",
      "\n",
      "[[1 5]\n",
      " [2 6]\n",
      " [3 7]]\n"
     ]
    }
   ],
   "source": [
    "#Swapaxes\n",
    "import numpy as np\n",
    "x= np.matrix([[1,2,3],[5,6,7]])\n",
    "print(x)\n",
    "print()\n",
    "print(np.swapaxes(x,0,1))"
   ]
  },
  {
   "cell_type": "code",
   "execution_count": 20,
   "metadata": {},
   "outputs": [
    {
     "name": "stdout",
     "output_type": "stream",
     "text": [
      "[[1 2]\n",
      " [3 4]]\n",
      "\n",
      "[[1 3]\n",
      " [2 4]]\n"
     ]
    }
   ],
   "source": [
    "#swapaxes\n",
    "x=np.matrix([[1,2],[3,4]])\n",
    "print(x)\n",
    "print()\n",
    "print(np.swapaxes(x,0,1))"
   ]
  },
  {
   "cell_type": "code",
   "execution_count": 21,
   "metadata": {},
   "outputs": [
    {
     "name": "stdout",
     "output_type": "stream",
     "text": [
      "[[1 2]\n",
      " [3 4]]\n",
      "\n",
      "[[-2.   1. ]\n",
      " [ 1.5 -0.5]]\n"
     ]
    }
   ],
   "source": [
    "#Inverse\n",
    "x=np.matrix([[1,2],[3,4]])\n",
    "print(x)\n",
    "print()\n",
    "print(np.linalg.inv(x))"
   ]
  },
  {
   "cell_type": "code",
   "execution_count": 32,
   "metadata": {},
   "outputs": [
    {
     "name": "stdout",
     "output_type": "stream",
     "text": [
      "[[1 2]\n",
      " [3 4]]\n",
      "\n",
      "[[1 0]\n",
      " [0 1]]\n",
      "\n",
      "[[ 7 10]\n",
      " [15 22]]\n",
      "\n",
      "[[ 5.5  -2.5 ]\n",
      " [-3.75  1.75]]\n",
      "\n",
      "[[ 37  54]\n",
      " [ 81 118]]\n",
      "\n"
     ]
    }
   ],
   "source": [
    "#Power\n",
    "x=np.matrix([[1,2],[3,4]])\n",
    "print(x)\n",
    "print()\n",
    "print(np.linalg.matrix_power(x,0))\n",
    "print()\n",
    "print(np.linalg.matrix_power(x,2))\n",
    "print()\n",
    "print(np.linalg.matrix_power(x,-2))\n",
    "print()\n",
    "print(np.linalg.matrix_power(x,3))\n",
    "print()"
   ]
  },
  {
   "cell_type": "code",
   "execution_count": 37,
   "metadata": {},
   "outputs": [
    {
     "name": "stdout",
     "output_type": "stream",
     "text": [
      "[[1 2 3]\n",
      " [4 5 6]\n",
      " [7 8 1]]\n",
      "\n",
      "23.999999999999993\n"
     ]
    }
   ],
   "source": [
    "#Determinate\n",
    "x=np.matrix([[1,2,3],[4,5,6],[7,8,1]])\n",
    "print(x)\n",
    "print()\n",
    "print(np.linalg.det(x))"
   ]
  }
 ],
 "metadata": {
  "kernelspec": {
   "display_name": "Python 3",
   "language": "python",
   "name": "python3"
  },
  "language_info": {
   "codemirror_mode": {
    "name": "ipython",
    "version": 3
   },
   "file_extension": ".py",
   "mimetype": "text/x-python",
   "name": "python",
   "nbconvert_exporter": "python",
   "pygments_lexer": "ipython3",
   "version": "3.11.7"
  }
 },
 "nbformat": 4,
 "nbformat_minor": 2
}
